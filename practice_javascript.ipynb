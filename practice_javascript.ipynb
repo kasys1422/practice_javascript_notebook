{
 "cells": [
  {
   "attachments": {},
   "cell_type": "markdown",
   "metadata": {},
   "source": [
    "<style>\n",
    ".button{\n",
    "    padding:10px;\n",
    "    border-radius:3px;\n",
    "    background-color:rgb(60,60,60);\n",
    "    color:rgb(60,200,255);\n",
    "    transition: .3s;\n",
    "}\n",
    ".button:hover {\n",
    "    background-color:rgb(45,45,45);\n",
    "    color:rgb(60,160,255);\n",
    "    text-decoration: none;\n",
    "}\n",
    "    \n",
    "</style>\n",
    "\n",
    "\n",
    "<div style=\"display:flex;justify-content: flex-start;gap:10px;align-items: center; flex-wrap: wrap;\"><div style=\"font-size:40px; width:480px;\">【JavaScript 基礎問題集】</div><div style=\"font-size:20px; width:180px;\">2023/05/29版</div><div\"></div></div>\n",
    "\n",
    "<h5> このファイルはJavaScriptの基礎文法やプログラミングの基礎を学ぶことが出来る問題集です。それぞれのテーマごとに課題が割り振られているので、ヒントやインターネットでの検索を行って問題を解いて行きましょう！</h5>\n",
    "\n",
    "<h3> 【使い方】</h3>\n",
    "\n",
    "1. 最新のVisual Studio Codeをインストールする​。\n",
    "\n",
    "<a href=\"https://code.visualstudio.com/\" class=\"button\"  style=\"display:flex;justify-content: flex-start;gap:10px;align-items: center; width:120px; margin-left:120px;\"><img src=\"https://upload.wikimedia.org/wikipedia/commons/9/9a/Visual_Studio_Code_1.35_icon.svg\" style=\"width:30px;\"></img>Download</a>\n",
    "\n",
    "2. 最新の.NET 7.0 SDKをインストールする。\n",
    "\n",
    "<a href=\"https://dotnet.microsoft.com/ja-jp/download\" class=\"button\" style=\"display:flex;justify-content: flex-start;gap:10px;align-items: center; width:120px; margin-left:120px;\"><img src=\"https://upload.wikimedia.org/wikipedia/commons/thumb/7/7d/Microsoft_.NET_logo.svg/1024px-Microsoft_.NET_logo.svg.png\" style=\"width:30px; border-radius:3px;\"></img>Download</a>\n",
    "\n",
    "3. Visual Studio Code内のマーケットプレイスからPolyglot Notebooksの拡張機能をインストールする​​。\n",
    "\n",
    "<a href=\"https://marketplace.visualstudio.com/items?itemName=ms-dotnettools.dotnet-interactive-vscode\" class=\"button\" style=\"display:flex;justify-content: flex-start;gap:10px;align-items: center; width:120px; margin-left:120px;\"><img src=\"https://ms-dotnettools.gallerycdn.vsassets.io/extensions/ms-dotnettools/dotnet-interactive-vscode/1.0.4272011/1684761278269/Microsoft.VisualStudio.Services.Icons.Default\" style=\"width:30px;\"></img>Download</a>\n",
    "\n",
    "4. ファイル（practice_javascript.ipynb）をダウンロードし、Visual Studio Codeで開く。\n",
    "\n",
    "<a href=\"https://drive.google.com/file/d/1C2FzsPH9Q1ZWkqr2I_sToW70WevQBDbz/view\" class=\"button\" style=\"display:flex;justify-content: flex-start;gap:10px;align-items: center; width:120px; margin-left:120px;\"><img src=\"https://upload.wikimedia.org/wikipedia/commons/6/6a/JavaScript-logo.png\" style=\"width:30px; border-radius:3px;\"></img>Download</a>\n",
    "\n",
    "5. 順番に課題を実行する"
   ]
  },
  {
   "attachments": {},
   "cell_type": "markdown",
   "metadata": {},
   "source": [
    "<h3><b>変数の定義</b></h3>\n",
    "<h4>課題1A: 名前Aの変数を宣言し、5を代入しましょう。また、console.log()文に変数を入れて中身を確認しましょう。</h4>\n",
    "<h5><br>[ヒント]<br>let a = 0; // 変数aを宣言して0を代入<br><br></h5>"
   ]
  },
  {
   "cell_type": "code",
   "execution_count": null,
   "metadata": {
    "dotnet_interactive": {
     "language": "javascript"
    },
    "polyglot_notebook": {
     "kernelName": "javascript"
    }
   },
   "outputs": [],
   "source": [
    "// ここに回答を記述\n",
    "\n"
   ]
  },
  {
   "attachments": {},
   "cell_type": "markdown",
   "metadata": {},
   "source": [
    "<h4>課題1B: 名前Bの定数を宣言し、10を代入しましょう。また、console.log()文に定数を入れて中身を確認しましょう。</h4>\n",
    "<h5><br>[ヒント]<br>const b = 0; // 変数bを宣言して0を代入し、値を変更できません。<br><br></h5>\n"
   ]
  },
  {
   "cell_type": "code",
   "execution_count": null,
   "metadata": {
    "dotnet_interactive": {
     "language": "javascript"
    },
    "polyglot_notebook": {
     "kernelName": "javascript"
    }
   },
   "outputs": [],
   "source": [
    "// ここに回答を記述\n",
    "\n"
   ]
  },
  {
   "attachments": {},
   "cell_type": "markdown",
   "metadata": {},
   "source": [
    "<h4>課題1C: 名前Cのvar変数を宣言し、15を代入しましょう。また、console.log()文に変数を入れて中身を確認しましょう。</h4>\n",
    "<h5><br>[ヒント]<br>var c = 0; // 変数cを宣言して0を代入します。letと似ていますが、スコープが異なります。<br><br></h5>"
   ]
  },
  {
   "cell_type": "code",
   "execution_count": null,
   "metadata": {
    "dotnet_interactive": {
     "language": "javascript"
    },
    "polyglot_notebook": {
     "kernelName": "javascript"
    }
   },
   "outputs": [],
   "source": [
    "// ここに回答を記述\n",
    "\n"
   ]
  },
  {
   "attachments": {},
   "cell_type": "markdown",
   "metadata": {},
   "source": [
    "<h4>課題2: 変数Aに0から100の範囲の乱数を入れ、console.log()文で確認しましょう。</h4>\n",
    "<h5><br>[ヒント]<br>// 0から9までの範囲の整数の乱数を生成<br>let a = Math.floor(Math.random() * 10);<br><br></h5>\n"
   ]
  },
  {
   "cell_type": "code",
   "execution_count": null,
   "metadata": {
    "dotnet_interactive": {
     "language": "javascript"
    },
    "polyglot_notebook": {
     "kernelName": "javascript"
    }
   },
   "outputs": [],
   "source": [
    "// ここに回答を記述\n",
    "\n"
   ]
  },
  {
   "attachments": {},
   "cell_type": "markdown",
   "metadata": {},
   "source": [
    "<h3><b>if文の使用</b></h3>\n",
    "<h4>課題3: 変数Aに0から10の範囲の乱数を入れ、Aが2の場合にconsole.log()文で\"Aは2です\"と表示し、それ以外の場合は\"Aは2以外です\"と表示しましょう</h4>\n",
    "<h5><br>[ヒント]<br>// 0から9までの範囲の整数の乱数を生成<br>let a = Math.floor(Math.random() * 10);<br>if (a == 2) {<br>  console.log(\"Aは2です\");<br>} else {<br>  console.log(\"Aは2以外です\");<br>}<br><br></h5>\n"
   ]
  },
  {
   "cell_type": "code",
   "execution_count": null,
   "metadata": {
    "dotnet_interactive": {
     "language": "javascript"
    },
    "polyglot_notebook": {
     "kernelName": "javascript"
    }
   },
   "outputs": [],
   "source": [
    "// ここに回答を記述\n",
    "\n"
   ]
  },
  {
   "attachments": {},
   "cell_type": "markdown",
   "metadata": {},
   "source": [
    "<h3><b>リストの作成と要素の追加</b></h3>\n",
    "<h4>課題4: リストBを作成し、数字の1,2,3を追加し、console.log()で内容を表示しましょう。</h4>\n",
    "<h5><br>[ヒント]<br>let list_name = [element1, element2, ...];<br>list_name.push(new_element);<br><br></h5>\n"
   ]
  },
  {
   "cell_type": "code",
   "execution_count": null,
   "metadata": {
    "dotnet_interactive": {
     "language": "javascript"
    },
    "polyglot_notebook": {
     "kernelName": "javascript"
    }
   },
   "outputs": [],
   "source": [
    "// ここに回答を記述\n",
    "\n"
   ]
  },
  {
   "attachments": {},
   "cell_type": "markdown",
   "metadata": {},
   "source": [
    "<h3><b>リストから要素の取得</b></h3>\n",
    "<h4>課題5: リストBの2番目の要素を取得し、console.log()で表示しましょう。</h4>\n",
    "<h5><br>[ヒント]<br>list_name[index]<br><br></h5>\n"
   ]
  },
  {
   "cell_type": "code",
   "execution_count": 5,
   "metadata": {
    "dotnet_interactive": {
     "language": "javascript"
    },
    "polyglot_notebook": {
     "kernelName": "javascript"
    }
   },
   "outputs": [],
   "source": [
    "// ここに回答を記述\n",
    "\n"
   ]
  },
  {
   "attachments": {},
   "cell_type": "markdown",
   "metadata": {},
   "source": [
    "<h3><b>オブジェクトの作成と要素の追加</b></h3>\n",
    "<h4>課題6: オブジェクトCを作成し、キーに'apple'、値に'りんご'を設定し、console.log()で内容を表示しましょう。</h4>\n",
    "<h5><br>[ヒント]<br>let obj_name = {'key1': 'value1', 'key2': 'value2', ...};<br>obj_name[new_key] = new_value;<br><br></h5>\n"
   ]
  },
  {
   "cell_type": "code",
   "execution_count": null,
   "metadata": {
    "dotnet_interactive": {
     "language": "javascript"
    },
    "polyglot_notebook": {
     "kernelName": "javascript"
    }
   },
   "outputs": [],
   "source": [
    "// ここに回答を記述\n",
    "\n"
   ]
  },
  {
   "attachments": {},
   "cell_type": "markdown",
   "metadata": {},
   "source": [
    "<h3><b>オブジェクトから要素の取得</b></h3>\n",
    "<h4>課題7: オブジェクトCから'apple'の値を取得し、console.log()で表示しましょう。</h4>\n",
    "<h5><br>[ヒント]<br>let value = obj_name[key];<br><br></h5>\n"
   ]
  },
  {
   "cell_type": "code",
   "execution_count": null,
   "metadata": {
    "dotnet_interactive": {
     "language": "javascript"
    },
    "polyglot_notebook": {
     "kernelName": "javascript"
    }
   },
   "outputs": [],
   "source": [
    "// ここに回答を記述\n",
    "\n"
   ]
  },
  {
   "attachments": {},
   "cell_type": "markdown",
   "metadata": {},
   "source": [
    "<h3><b>forループを使用した範囲内の数値の繰り返し</b></h3>\n",
    "<h4>課題8: forループを使用して、0から10までの数字をconsole.log()で表示しましょう。</h4>\n",
    "<h5><br>[ヒント]<br>for (let i = start; i < end; i++) {<br>　　// 処理<br>}<br><br></h5>\n"
   ]
  },
  {
   "cell_type": "code",
   "execution_count": null,
   "metadata": {
    "dotnet_interactive": {
     "language": "javascript"
    },
    "polyglot_notebook": {
     "kernelName": "javascript"
    }
   },
   "outputs": [],
   "source": [
    "// ここに回答を記述\n",
    "\n"
   ]
  },
  {
   "attachments": {},
   "cell_type": "markdown",
   "metadata": {},
   "source": [
    "<h3><b>while文の使用</b></h3>\n",
    "<h4>課題9: whileループを使用して、変数Eが0から10になるまで、Eの値をconsole.log()で表示しましょう。</h4>\n",
    "<h5><br>[ヒント]<br>while (条件式) {<br>　　// 処理<br>}<br><br></h5>\n"
   ]
  },
  {
   "cell_type": "code",
   "execution_count": null,
   "metadata": {
    "dotnet_interactive": {
     "language": "javascript"
    },
    "polyglot_notebook": {
     "kernelName": "javascript"
    }
   },
   "outputs": [],
   "source": [
    "// ここに回答を記述\n",
    "\n"
   ]
  },
  {
   "attachments": {},
   "cell_type": "markdown",
   "metadata": {},
   "source": [
    "<h3><b>関数の定義と呼び出し</b></h3>\n",
    "<h4>課題10: 'Hello, JavaScript!'を表示する関数Fを定義し、呼び出してみましょう。</h4>\n",
    "<h5><br>[ヒント]<br>function functionName() {<br>　　// 処理<br>}<br>functionName();<br><br></h5>\n"
   ]
  },
  {
   "cell_type": "code",
   "execution_count": null,
   "metadata": {
    "dotnet_interactive": {
     "language": "javascript"
    },
    "polyglot_notebook": {
     "kernelName": "javascript"
    }
   },
   "outputs": [],
   "source": [
    "// ここに回答を記述\n",
    "\n"
   ]
  },
  {
   "attachments": {},
   "cell_type": "markdown",
   "metadata": {},
   "source": [
    "<h3><b>引数を持つ関数の定義と呼び出し</b></h3>\n",
    "<h4>課題11: 一つの引数を取り、その引数をconsole.log()で表示する関数Gを定義し、いくつかの値で呼び出してみましょう。</h4>\n",
    "<h5><br>[ヒント]<br>function functionName(argument) {<br>　　// 処理<br>}<br>functionName(value);<br><br></h5>\n"
   ]
  },
  {
   "cell_type": "code",
   "execution_count": null,
   "metadata": {
    "dotnet_interactive": {
     "language": "javascript"
    },
    "polyglot_notebook": {
     "kernelName": "javascript"
    }
   },
   "outputs": [],
   "source": [
    "// ここに回答を記述\n",
    "\n"
   ]
  },
  {
   "attachments": {},
   "cell_type": "markdown",
   "metadata": {},
   "source": [
    "<h3><b>複数の引数を持つ関数の定義と呼び出し</b></h3>\n",
    "<h4>課題12: 二つの引数を取り、その引数の和をreturnする関数Hを定義し、いくつかの値で呼び出してみましょう。</h4>\n",
    "<h5><br>[ヒント]<br>function functionName(argument1, argument2) {<br>　　// 処理<br>}<br>let result = functionName(value1, value2);<br><br></h5>\n"
   ]
  },
  {
   "cell_type": "code",
   "execution_count": null,
   "metadata": {
    "dotnet_interactive": {
     "language": "javascript"
    },
    "polyglot_notebook": {
     "kernelName": "javascript"
    }
   },
   "outputs": [],
   "source": [
    "// ここに回答を記述\n",
    "\n"
   ]
  },
  {
   "attachments": {},
   "cell_type": "markdown",
   "metadata": {},
   "source": [
    "<h3><b>例外処理（try-catch）</b></h3>\n",
    "<h4>課題13: 例外処理について調べ、try-catch文を用いて例外処理を行う練習をしましょう。整数でない値を入力した場合にエラーメッセージを表示するプログラムを作成してください。</h4>\n",
    "<h5><br>[ヒント]<br></h5>\n",
    "\n",
    "例外処理を行わない場合\n",
    "<h5>let text = name;<br>console.log( text );<br>console.log( \"こんにちは\" );<br></h5>\n",
    "出力\n",
    "<div style=\"background-color:black;color:white;padding:10px;width:97%;\">Error: name is not defined</div>\n",
    "\n",
    "<br>\n",
    "\n",
    "例外処理を行った場合\n",
    "<h5>try {<br>　　// 例外が発生する可能性のある処理<br>　　let text = name;<br>　　console.log( text );<br>} catch (error) {<br>　　// エラー処理<br>　　console.log( error.message );<br>　　console.log( \"エラーが発生しました！\" );<br>}<br>console.log( \"こんにちは\" );<br></h5>\n",
    "出力\n",
    "<div style=\"background-color:black;color:white;padding:10px;width:97%;\">name is not defined<br>エラーが発生しました！<br>こんにちは</div>"
   ]
  },
  {
   "cell_type": "code",
   "execution_count": null,
   "metadata": {
    "dotnet_interactive": {
     "language": "javascript"
    },
    "polyglot_notebook": {
     "kernelName": "javascript"
    }
   },
   "outputs": [],
   "source": [
    "// ここに回答を記述\n",
    "\n"
   ]
  },
  {
   "attachments": {},
   "cell_type": "markdown",
   "metadata": {},
   "source": [
    "<h3><b>例外処理（finally）</b></h3>\n",
    "<h4>課題14: try-catch文と一緒にfinallyを用いて、エラーの有無に関わらず最後に実行されるべき処理を書く練習をしましょう。課題13のプログラムにfinallyブロックを追加し、処理が終了したことを示すメッセージを表示してください。</h4>\n",
    "<h5><br>[ヒント]<br>try {<br>　　// 処理<br>} catch (error) {<br>　　// エラー処理<br>} finally {<br>　　// 最後に実行される処理<br>}<br><br></h5>\n"
   ]
  },
  {
   "cell_type": "code",
   "execution_count": null,
   "metadata": {
    "dotnet_interactive": {
     "language": "javascript"
    },
    "polyglot_notebook": {
     "kernelName": "javascript"
    }
   },
   "outputs": [],
   "source": [
    "// ここに回答を記述\n",
    "\n"
   ]
  },
  {
   "attachments": {},
   "cell_type": "markdown",
   "metadata": {},
   "source": [
    "<h3><b>単純なソートアルゴリズムの実装</b></h3>\n",
    "<h4>課題15: JavaScriptを用いて単純なソートアルゴリズム（例えば、バブルソート）を実装する練習をしましょう。配列[5, 3, 2, 4, 1]をソートしてみてください。</h4>\n",
    "<h5><br>[ヒント]<br>バブルソートは、配列の要素を先頭から順に隣接する要素と比較し、必要に応じて入れ替えていきます。これを配列の最後まで繰り返し、最大値を配列の最後に移動させます。その後、配列の最後の要素を除いて同じ操作を繰り返します。<br><br></h5>\n"
   ]
  },
  {
   "cell_type": "code",
   "execution_count": null,
   "metadata": {
    "dotnet_interactive": {
     "language": "javascript"
    },
    "polyglot_notebook": {
     "kernelName": "javascript"
    }
   },
   "outputs": [],
   "source": [
    "// ここに回答を記述\n",
    "\n"
   ]
  },
  {
   "attachments": {},
   "cell_type": "markdown",
   "metadata": {},
   "source": [
    "<h3><b>クラスの定義とインスタンス化</b></h3>\n",
    "<h4>課題16: JavaScriptでクラスを定義し、インスタンス化する練習をしましょう。人を表すPersonクラスを作成し、そのインスタンスを作成してください。</h4>\n",
    "<h5><br>[ヒント]<br>class ClassName {<br>　　constructor(argument1, argument2,...) {<br>　　　　// 初期化メソッドの定義<br>　　}<br>}<br>let instanceName = new ClassName(argument1, argument2,...);<br><br></h5>\n"
   ]
  },
  {
   "cell_type": "code",
   "execution_count": null,
   "metadata": {
    "dotnet_interactive": {
     "language": "javascript"
    },
    "polyglot_notebook": {
     "kernelName": "javascript"
    }
   },
   "outputs": [],
   "source": [
    "// ここに回答を記述\n",
    "\n"
   ]
  },
  {
   "attachments": {},
   "cell_type": "markdown",
   "metadata": {},
   "source": [
    "<h3><b>メソッドの定義と呼び出し</b></h3>\n",
    "<h4>課題17: JavaScriptでメソッドを定義し、それを呼び出す練習をしましょう。Personクラスに自己紹介をするメソッドを追加し、それを呼び出してください。</h4>\n",
    "<h5><br>[ヒント]<br>class ClassName {<br>　　methodName(argument1, argument2,...) {<br>　　　　// メソッドの定義<br>　　}<br>}<br>instanceName.methodName(argument1, argument2,...);<br><br></h5>\n"
   ]
  },
  {
   "cell_type": "code",
   "execution_count": null,
   "metadata": {
    "dotnet_interactive": {
     "language": "javascript"
    },
    "polyglot_notebook": {
     "kernelName": "javascript"
    }
   },
   "outputs": [],
   "source": [
    "// ここに回答を記述\n",
    "\n"
   ]
  },
  {
   "attachments": {},
   "cell_type": "markdown",
   "metadata": {},
   "source": [
    "<h3><b>クラスのプロパティ</b></h3>\n",
    "<h4>課題18: JavaScriptでクラスのプロパティを定義し、それを操作する練習をしましょう。Personクラスに名前と年齢のプロパティを追加し、それらを操作してみてください。</h4>\n",
    "<h5><br>[ヒント]<br>class ClassName {<br>　　constructor(argument1, argument2,...) {<br>　　　　// 初期化メソッドでプロパティを設定<br>　　}<br>}<br>instanceName.propertyName = newValue;<br><br></h5>\n"
   ]
  },
  {
   "cell_type": "code",
   "execution_count": null,
   "metadata": {
    "dotnet_interactive": {
     "language": "javascript"
    },
    "polyglot_notebook": {
     "kernelName": "javascript"
    }
   },
   "outputs": [],
   "source": [
    "// ここに回答を記述\n",
    "\n"
   ]
  },
  {
   "attachments": {},
   "cell_type": "markdown",
   "metadata": {},
   "source": [
    "<h3><b>カプセル化</b></h3>\n",
    "<h4>課題19: JavaScriptでカプセル化（情報隠蔽）を行う練習をしましょう。Personクラスにプライベート変数を作成し、それにアクセスするためのメソッド（getterとsetter）を定義してください。</h4>\n",
    "<h5><br>[ヒント]<br>class ClassName {<br>　　constructor(argument1, argument2,...) {<br>　　　　// 初期化メソッドでプライベート変数を設定<br>　　}<br>}<br><br></h5>\n"
   ]
  },
  {
   "cell_type": "code",
   "execution_count": null,
   "metadata": {
    "dotnet_interactive": {
     "language": "javascript"
    },
    "polyglot_notebook": {
     "kernelName": "javascript"
    }
   },
   "outputs": [],
   "source": [
    "// ここに回答を記述\n",
    "\n"
   ]
  },
  {
   "attachments": {},
   "cell_type": "markdown",
   "metadata": {},
   "source": [
    "<h3><b>クラスの継承</b></h3>\n",
    "<h4>課題20: JavaScriptでクラスの継承を行う練習をしましょう。Personクラスを継承したStudentクラスを作成し、そのインスタンスを作成してください。</h4>\n",
    "<h5><br>[ヒント]<br>class ChildClassName extends ParentClassName {<br>　　// 子クラスの定義<br>}<br>let instanceName = new ChildClassName(argument1, argument2,...);<br><br></h5>\n"
   ]
  },
  {
   "cell_type": "code",
   "execution_count": null,
   "metadata": {
    "dotnet_interactive": {
     "language": "javascript"
    },
    "polyglot_notebook": {
     "kernelName": "javascript"
    }
   },
   "outputs": [],
   "source": [
    "// ここに回答を記述\n",
    "\n"
   ]
  },
  {
   "attachments": {},
   "cell_type": "markdown",
   "metadata": {},
   "source": [
    "<h3><b>メソッドのオーバーライド</b></h3>\n",
    "<h4>課題21: JavaScriptでメソッドのオーバーライドを行う練習をしましょう。Personクラスを継承したStudentクラスで、Personクラスのメソッドをオーバーライドしてください。</h4>\n",
    "<h5><br>[ヒント]<br>class ChildClassName extends ParentClassName {<br>　　methodName(argument1, argument2,...) {<br>　　　　// 親クラスのメソッドをオーバーライド<br>　　}<br>}<br><br></h5>\n"
   ]
  },
  {
   "cell_type": "code",
   "execution_count": null,
   "metadata": {
    "dotnet_interactive": {
     "language": "javascript"
    },
    "polyglot_notebook": {
     "kernelName": "javascript"
    }
   },
   "outputs": [],
   "source": [
    "// ここに回答を記述\n",
    "\n"
   ]
  }
 ],
 "metadata": {
  "kernelspec": {
   "display_name": ".NET (C#)",
   "language": "C#",
   "name": ".net-csharp"
  },
  "language_info": {
   "name": "polyglot-notebook"
  },
  "polyglot_notebook": {
   "kernelInfo": {
    "defaultKernelName": "javascript",
    "items": [
     {
      "aliases": [],
      "languageName": "javascript",
      "name": "javascript"
     }
    ]
   }
  }
 },
 "nbformat": 4,
 "nbformat_minor": 2
}
